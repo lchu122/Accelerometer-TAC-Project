{
  "nbformat": 4,
  "nbformat_minor": 0,
  "metadata": {
    "colab": {
      "name": "Accelerometer_TAC.ipynb",
      "provenance": []
    },
    "kernelspec": {
      "name": "python3",
      "display_name": "Python 3"
    }
  },
  "cells": [
    {
      "cell_type": "code",
      "metadata": {
        "id": "ZP62NSImSABV",
        "colab_type": "code",
        "colab": {}
      },
      "source": [
        "import pandas as pd\n",
        "import numpy as np\n",
        "import matplotlib.pyplot as plt"
      ],
      "execution_count": 1,
      "outputs": []
    },
    {
      "cell_type": "code",
      "metadata": {
        "id": "Ie_-KenNSWit",
        "colab_type": "code",
        "colab": {}
      },
      "source": [
        "# Load Data Frame\n",
        "accel_data = pd.read_csv('/content/all_accelerometer_data_pids_13.csv')"
      ],
      "execution_count": 2,
      "outputs": []
    },
    {
      "cell_type": "code",
      "metadata": {
        "id": "-hvqsJLESjWX",
        "colab_type": "code",
        "colab": {
          "base_uri": "https://localhost:8080/",
          "height": 343
        },
        "outputId": "ee749d79-36c5-48aa-80c6-8e2761312395"
      },
      "source": [
        "accel_data.head(10)"
      ],
      "execution_count": 3,
      "outputs": [
        {
          "output_type": "execute_result",
          "data": {
            "text/html": [
              "<div>\n",
              "<style scoped>\n",
              "    .dataframe tbody tr th:only-of-type {\n",
              "        vertical-align: middle;\n",
              "    }\n",
              "\n",
              "    .dataframe tbody tr th {\n",
              "        vertical-align: top;\n",
              "    }\n",
              "\n",
              "    .dataframe thead th {\n",
              "        text-align: right;\n",
              "    }\n",
              "</style>\n",
              "<table border=\"1\" class=\"dataframe\">\n",
              "  <thead>\n",
              "    <tr style=\"text-align: right;\">\n",
              "      <th></th>\n",
              "      <th>time</th>\n",
              "      <th>pid</th>\n",
              "      <th>x</th>\n",
              "      <th>y</th>\n",
              "      <th>z</th>\n",
              "    </tr>\n",
              "  </thead>\n",
              "  <tbody>\n",
              "    <tr>\n",
              "      <th>0</th>\n",
              "      <td>0</td>\n",
              "      <td>JB3156</td>\n",
              "      <td>0.0000</td>\n",
              "      <td>0.0000</td>\n",
              "      <td>0.0000</td>\n",
              "    </tr>\n",
              "    <tr>\n",
              "      <th>1</th>\n",
              "      <td>0</td>\n",
              "      <td>CC6740</td>\n",
              "      <td>0.0000</td>\n",
              "      <td>0.0000</td>\n",
              "      <td>0.0000</td>\n",
              "    </tr>\n",
              "    <tr>\n",
              "      <th>2</th>\n",
              "      <td>1493733882409</td>\n",
              "      <td>SA0297</td>\n",
              "      <td>0.0758</td>\n",
              "      <td>0.0273</td>\n",
              "      <td>-0.0102</td>\n",
              "    </tr>\n",
              "    <tr>\n",
              "      <th>3</th>\n",
              "      <td>1493733882455</td>\n",
              "      <td>SA0297</td>\n",
              "      <td>-0.0359</td>\n",
              "      <td>0.0794</td>\n",
              "      <td>0.0037</td>\n",
              "    </tr>\n",
              "    <tr>\n",
              "      <th>4</th>\n",
              "      <td>1493733882500</td>\n",
              "      <td>SA0297</td>\n",
              "      <td>-0.2427</td>\n",
              "      <td>-0.0861</td>\n",
              "      <td>-0.0163</td>\n",
              "    </tr>\n",
              "    <tr>\n",
              "      <th>5</th>\n",
              "      <td>1493733883945</td>\n",
              "      <td>SA0297</td>\n",
              "      <td>-0.2888</td>\n",
              "      <td>0.0514</td>\n",
              "      <td>-0.0145</td>\n",
              "    </tr>\n",
              "    <tr>\n",
              "      <th>6</th>\n",
              "      <td>1493733883953</td>\n",
              "      <td>SA0297</td>\n",
              "      <td>-0.0413</td>\n",
              "      <td>-0.0184</td>\n",
              "      <td>-0.0105</td>\n",
              "    </tr>\n",
              "    <tr>\n",
              "      <th>7</th>\n",
              "      <td>1493733883957</td>\n",
              "      <td>SA0297</td>\n",
              "      <td>-0.0413</td>\n",
              "      <td>-0.0001</td>\n",
              "      <td>0.0017</td>\n",
              "    </tr>\n",
              "    <tr>\n",
              "      <th>8</th>\n",
              "      <td>1493733883963</td>\n",
              "      <td>SA0297</td>\n",
              "      <td>-0.0286</td>\n",
              "      <td>-0.0028</td>\n",
              "      <td>-0.0094</td>\n",
              "    </tr>\n",
              "    <tr>\n",
              "      <th>9</th>\n",
              "      <td>1493733883974</td>\n",
              "      <td>SA0297</td>\n",
              "      <td>-0.0543</td>\n",
              "      <td>-0.0410</td>\n",
              "      <td>-0.0109</td>\n",
              "    </tr>\n",
              "  </tbody>\n",
              "</table>\n",
              "</div>"
            ],
            "text/plain": [
              "            time     pid       x       y       z\n",
              "0              0  JB3156  0.0000  0.0000  0.0000\n",
              "1              0  CC6740  0.0000  0.0000  0.0000\n",
              "2  1493733882409  SA0297  0.0758  0.0273 -0.0102\n",
              "3  1493733882455  SA0297 -0.0359  0.0794  0.0037\n",
              "4  1493733882500  SA0297 -0.2427 -0.0861 -0.0163\n",
              "5  1493733883945  SA0297 -0.2888  0.0514 -0.0145\n",
              "6  1493733883953  SA0297 -0.0413 -0.0184 -0.0105\n",
              "7  1493733883957  SA0297 -0.0413 -0.0001  0.0017\n",
              "8  1493733883963  SA0297 -0.0286 -0.0028 -0.0094\n",
              "9  1493733883974  SA0297 -0.0543 -0.0410 -0.0109"
            ]
          },
          "metadata": {
            "tags": []
          },
          "execution_count": 3
        }
      ]
    },
    {
      "cell_type": "code",
      "metadata": {
        "id": "XYWcPzEFSlE8",
        "colab_type": "code",
        "colab": {
          "base_uri": "https://localhost:8080/",
          "height": 67
        },
        "outputId": "8db04b43-7d0d-4a35-8553-359ba4176371"
      },
      "source": [
        "# Check unique participants\n",
        "accel_data.pid.unique()"
      ],
      "execution_count": 4,
      "outputs": [
        {
          "output_type": "execute_result",
          "data": {
            "text/plain": [
              "array(['JB3156', 'CC6740', 'SA0297', 'PC6771', 'BK7610', 'DC6359',\n",
              "       'MC7070', 'MJ8002', 'BU4707', 'JR8022', 'HV0618', 'SF3079',\n",
              "       'DK3500'], dtype=object)"
            ]
          },
          "metadata": {
            "tags": []
          },
          "execution_count": 4
        }
      ]
    },
    {
      "cell_type": "code",
      "metadata": {
        "id": "ipDLpWkkTVo2",
        "colab_type": "code",
        "colab": {
          "base_uri": "https://localhost:8080/",
          "height": 218
        },
        "outputId": "347dce65-497b-409b-ed96-5faf5eb93721"
      },
      "source": [
        "accel_data.info()"
      ],
      "execution_count": 5,
      "outputs": [
        {
          "output_type": "stream",
          "text": [
            "<class 'pandas.core.frame.DataFrame'>\n",
            "RangeIndex: 14057567 entries, 0 to 14057566\n",
            "Data columns (total 5 columns):\n",
            " #   Column  Dtype  \n",
            "---  ------  -----  \n",
            " 0   time    int64  \n",
            " 1   pid     object \n",
            " 2   x       float64\n",
            " 3   y       float64\n",
            " 4   z       float64\n",
            "dtypes: float64(3), int64(1), object(1)\n",
            "memory usage: 536.3+ MB\n"
          ],
          "name": "stdout"
        }
      ]
    },
    {
      "cell_type": "code",
      "metadata": {
        "id": "xNS7CsWxUHSh",
        "colab_type": "code",
        "colab": {
          "base_uri": "https://localhost:8080/",
          "height": 166
        },
        "outputId": "3bdf2261-5c6f-4427-9bc8-280dddc65d05"
      },
      "source": [
        "accel_data.describe().transpose()"
      ],
      "execution_count": 6,
      "outputs": [
        {
          "output_type": "execute_result",
          "data": {
            "text/html": [
              "<div>\n",
              "<style scoped>\n",
              "    .dataframe tbody tr th:only-of-type {\n",
              "        vertical-align: middle;\n",
              "    }\n",
              "\n",
              "    .dataframe tbody tr th {\n",
              "        vertical-align: top;\n",
              "    }\n",
              "\n",
              "    .dataframe thead th {\n",
              "        text-align: right;\n",
              "    }\n",
              "</style>\n",
              "<table border=\"1\" class=\"dataframe\">\n",
              "  <thead>\n",
              "    <tr style=\"text-align: right;\">\n",
              "      <th></th>\n",
              "      <th>count</th>\n",
              "      <th>mean</th>\n",
              "      <th>std</th>\n",
              "      <th>min</th>\n",
              "      <th>25%</th>\n",
              "      <th>50%</th>\n",
              "      <th>75%</th>\n",
              "      <th>max</th>\n",
              "    </tr>\n",
              "  </thead>\n",
              "  <tbody>\n",
              "    <tr>\n",
              "      <th>time</th>\n",
              "      <td>14057567.0</td>\n",
              "      <td>1.493778e+12</td>\n",
              "      <td>5.640453e+08</td>\n",
              "      <td>0.000000e+00</td>\n",
              "      <td>1.493755e+12</td>\n",
              "      <td>1.493779e+12</td>\n",
              "      <td>1.493801e+12</td>\n",
              "      <td>1.493829e+12</td>\n",
              "    </tr>\n",
              "    <tr>\n",
              "      <th>x</th>\n",
              "      <td>14057567.0</td>\n",
              "      <td>-9.269848e-03</td>\n",
              "      <td>9.540696e-01</td>\n",
              "      <td>-4.333507e+01</td>\n",
              "      <td>-5.700000e-03</td>\n",
              "      <td>-2.000000e-04</td>\n",
              "      <td>7.600000e-03</td>\n",
              "      <td>3.922540e+01</td>\n",
              "    </tr>\n",
              "    <tr>\n",
              "      <th>y</th>\n",
              "      <td>14057567.0</td>\n",
              "      <td>-7.168398e+06</td>\n",
              "      <td>3.528998e+07</td>\n",
              "      <td>-1.809008e+08</td>\n",
              "      <td>-4.500000e-03</td>\n",
              "      <td>-2.000000e-04</td>\n",
              "      <td>4.500000e-03</td>\n",
              "      <td>2.731123e+01</td>\n",
              "    </tr>\n",
              "    <tr>\n",
              "      <th>z</th>\n",
              "      <td>14057567.0</td>\n",
              "      <td>7.168398e+06</td>\n",
              "      <td>3.528998e+07</td>\n",
              "      <td>-4.902300e+01</td>\n",
              "      <td>-4.200000e-03</td>\n",
              "      <td>6.100000e-03</td>\n",
              "      <td>4.605889e-02</td>\n",
              "      <td>1.809008e+08</td>\n",
              "    </tr>\n",
              "  </tbody>\n",
              "</table>\n",
              "</div>"
            ],
            "text/plain": [
              "           count          mean  ...           75%           max\n",
              "time  14057567.0  1.493778e+12  ...  1.493801e+12  1.493829e+12\n",
              "x     14057567.0 -9.269848e-03  ...  7.600000e-03  3.922540e+01\n",
              "y     14057567.0 -7.168398e+06  ...  4.500000e-03  2.731123e+01\n",
              "z     14057567.0  7.168398e+06  ...  4.605889e-02  1.809008e+08\n",
              "\n",
              "[4 rows x 8 columns]"
            ]
          },
          "metadata": {
            "tags": []
          },
          "execution_count": 6
        }
      ]
    },
    {
      "cell_type": "code",
      "metadata": {
        "id": "cja6svfbUczC",
        "colab_type": "code",
        "colab": {}
      },
      "source": [
        "# ensure our values are sorted by time\n",
        "SA0297_data = accel_data[accel_data['pid'] == 'SA0297'].sort_values('time')"
      ],
      "execution_count": 7,
      "outputs": []
    },
    {
      "cell_type": "code",
      "metadata": {
        "id": "5LPc5mM25Tyj",
        "colab_type": "code",
        "colab": {
          "base_uri": "https://localhost:8080/",
          "height": 343
        },
        "outputId": "6173cae2-a71d-4ca7-fafc-e7397d6bc179"
      },
      "source": [
        "SA0297_data.head(10)"
      ],
      "execution_count": 8,
      "outputs": [
        {
          "output_type": "execute_result",
          "data": {
            "text/html": [
              "<div>\n",
              "<style scoped>\n",
              "    .dataframe tbody tr th:only-of-type {\n",
              "        vertical-align: middle;\n",
              "    }\n",
              "\n",
              "    .dataframe tbody tr th {\n",
              "        vertical-align: top;\n",
              "    }\n",
              "\n",
              "    .dataframe thead th {\n",
              "        text-align: right;\n",
              "    }\n",
              "</style>\n",
              "<table border=\"1\" class=\"dataframe\">\n",
              "  <thead>\n",
              "    <tr style=\"text-align: right;\">\n",
              "      <th></th>\n",
              "      <th>time</th>\n",
              "      <th>pid</th>\n",
              "      <th>x</th>\n",
              "      <th>y</th>\n",
              "      <th>z</th>\n",
              "    </tr>\n",
              "  </thead>\n",
              "  <tbody>\n",
              "    <tr>\n",
              "      <th>2</th>\n",
              "      <td>1493733882409</td>\n",
              "      <td>SA0297</td>\n",
              "      <td>0.0758</td>\n",
              "      <td>0.0273</td>\n",
              "      <td>-0.0102</td>\n",
              "    </tr>\n",
              "    <tr>\n",
              "      <th>3</th>\n",
              "      <td>1493733882455</td>\n",
              "      <td>SA0297</td>\n",
              "      <td>-0.0359</td>\n",
              "      <td>0.0794</td>\n",
              "      <td>0.0037</td>\n",
              "    </tr>\n",
              "    <tr>\n",
              "      <th>4</th>\n",
              "      <td>1493733882500</td>\n",
              "      <td>SA0297</td>\n",
              "      <td>-0.2427</td>\n",
              "      <td>-0.0861</td>\n",
              "      <td>-0.0163</td>\n",
              "    </tr>\n",
              "    <tr>\n",
              "      <th>5</th>\n",
              "      <td>1493733883945</td>\n",
              "      <td>SA0297</td>\n",
              "      <td>-0.2888</td>\n",
              "      <td>0.0514</td>\n",
              "      <td>-0.0145</td>\n",
              "    </tr>\n",
              "    <tr>\n",
              "      <th>6</th>\n",
              "      <td>1493733883953</td>\n",
              "      <td>SA0297</td>\n",
              "      <td>-0.0413</td>\n",
              "      <td>-0.0184</td>\n",
              "      <td>-0.0105</td>\n",
              "    </tr>\n",
              "    <tr>\n",
              "      <th>7</th>\n",
              "      <td>1493733883957</td>\n",
              "      <td>SA0297</td>\n",
              "      <td>-0.0413</td>\n",
              "      <td>-0.0001</td>\n",
              "      <td>0.0017</td>\n",
              "    </tr>\n",
              "    <tr>\n",
              "      <th>8</th>\n",
              "      <td>1493733883963</td>\n",
              "      <td>SA0297</td>\n",
              "      <td>-0.0286</td>\n",
              "      <td>-0.0028</td>\n",
              "      <td>-0.0094</td>\n",
              "    </tr>\n",
              "    <tr>\n",
              "      <th>9</th>\n",
              "      <td>1493733883974</td>\n",
              "      <td>SA0297</td>\n",
              "      <td>-0.0543</td>\n",
              "      <td>-0.0410</td>\n",
              "      <td>-0.0109</td>\n",
              "    </tr>\n",
              "    <tr>\n",
              "      <th>10</th>\n",
              "      <td>1493733883977</td>\n",
              "      <td>SA0297</td>\n",
              "      <td>0.0070</td>\n",
              "      <td>-0.0050</td>\n",
              "      <td>-0.0849</td>\n",
              "    </tr>\n",
              "    <tr>\n",
              "      <th>11</th>\n",
              "      <td>1493733883991</td>\n",
              "      <td>SA0297</td>\n",
              "      <td>-0.0561</td>\n",
              "      <td>-0.0226</td>\n",
              "      <td>0.0134</td>\n",
              "    </tr>\n",
              "  </tbody>\n",
              "</table>\n",
              "</div>"
            ],
            "text/plain": [
              "             time     pid       x       y       z\n",
              "2   1493733882409  SA0297  0.0758  0.0273 -0.0102\n",
              "3   1493733882455  SA0297 -0.0359  0.0794  0.0037\n",
              "4   1493733882500  SA0297 -0.2427 -0.0861 -0.0163\n",
              "5   1493733883945  SA0297 -0.2888  0.0514 -0.0145\n",
              "6   1493733883953  SA0297 -0.0413 -0.0184 -0.0105\n",
              "7   1493733883957  SA0297 -0.0413 -0.0001  0.0017\n",
              "8   1493733883963  SA0297 -0.0286 -0.0028 -0.0094\n",
              "9   1493733883974  SA0297 -0.0543 -0.0410 -0.0109\n",
              "10  1493733883977  SA0297  0.0070 -0.0050 -0.0849\n",
              "11  1493733883991  SA0297 -0.0561 -0.0226  0.0134"
            ]
          },
          "metadata": {
            "tags": []
          },
          "execution_count": 8
        }
      ]
    },
    {
      "cell_type": "code",
      "metadata": {
        "id": "KTwbdt504_NF",
        "colab_type": "code",
        "colab": {
          "base_uri": "https://localhost:8080/",
          "height": 118
        },
        "outputId": "db0a1e68-c83d-4ff5-832a-905a6a783318"
      },
      "source": [
        "SA0297_data.count()"
      ],
      "execution_count": 9,
      "outputs": [
        {
          "output_type": "execute_result",
          "data": {
            "text/plain": [
              "time    962901\n",
              "pid     962901\n",
              "x       962901\n",
              "y       962901\n",
              "z       962901\n",
              "dtype: int64"
            ]
          },
          "metadata": {
            "tags": []
          },
          "execution_count": 9
        }
      ]
    },
    {
      "cell_type": "code",
      "metadata": {
        "id": "IEQdsYosKRia",
        "colab_type": "code",
        "colab": {
          "base_uri": "https://localhost:8080/",
          "height": 343
        },
        "outputId": "e468f59f-2075-4b07-8334-58aac65d10cc"
      },
      "source": [
        "# are our timestamps evenly spaced?\n",
        "SA0297_data['time_diff'] = SA0297_data['time'].diff(1)\n",
        "SA0297_data.head(10)  "
      ],
      "execution_count": 10,
      "outputs": [
        {
          "output_type": "execute_result",
          "data": {
            "text/html": [
              "<div>\n",
              "<style scoped>\n",
              "    .dataframe tbody tr th:only-of-type {\n",
              "        vertical-align: middle;\n",
              "    }\n",
              "\n",
              "    .dataframe tbody tr th {\n",
              "        vertical-align: top;\n",
              "    }\n",
              "\n",
              "    .dataframe thead th {\n",
              "        text-align: right;\n",
              "    }\n",
              "</style>\n",
              "<table border=\"1\" class=\"dataframe\">\n",
              "  <thead>\n",
              "    <tr style=\"text-align: right;\">\n",
              "      <th></th>\n",
              "      <th>time</th>\n",
              "      <th>pid</th>\n",
              "      <th>x</th>\n",
              "      <th>y</th>\n",
              "      <th>z</th>\n",
              "      <th>time_diff</th>\n",
              "    </tr>\n",
              "  </thead>\n",
              "  <tbody>\n",
              "    <tr>\n",
              "      <th>2</th>\n",
              "      <td>1493733882409</td>\n",
              "      <td>SA0297</td>\n",
              "      <td>0.0758</td>\n",
              "      <td>0.0273</td>\n",
              "      <td>-0.0102</td>\n",
              "      <td>NaN</td>\n",
              "    </tr>\n",
              "    <tr>\n",
              "      <th>3</th>\n",
              "      <td>1493733882455</td>\n",
              "      <td>SA0297</td>\n",
              "      <td>-0.0359</td>\n",
              "      <td>0.0794</td>\n",
              "      <td>0.0037</td>\n",
              "      <td>46.0</td>\n",
              "    </tr>\n",
              "    <tr>\n",
              "      <th>4</th>\n",
              "      <td>1493733882500</td>\n",
              "      <td>SA0297</td>\n",
              "      <td>-0.2427</td>\n",
              "      <td>-0.0861</td>\n",
              "      <td>-0.0163</td>\n",
              "      <td>45.0</td>\n",
              "    </tr>\n",
              "    <tr>\n",
              "      <th>5</th>\n",
              "      <td>1493733883945</td>\n",
              "      <td>SA0297</td>\n",
              "      <td>-0.2888</td>\n",
              "      <td>0.0514</td>\n",
              "      <td>-0.0145</td>\n",
              "      <td>1445.0</td>\n",
              "    </tr>\n",
              "    <tr>\n",
              "      <th>6</th>\n",
              "      <td>1493733883953</td>\n",
              "      <td>SA0297</td>\n",
              "      <td>-0.0413</td>\n",
              "      <td>-0.0184</td>\n",
              "      <td>-0.0105</td>\n",
              "      <td>8.0</td>\n",
              "    </tr>\n",
              "    <tr>\n",
              "      <th>7</th>\n",
              "      <td>1493733883957</td>\n",
              "      <td>SA0297</td>\n",
              "      <td>-0.0413</td>\n",
              "      <td>-0.0001</td>\n",
              "      <td>0.0017</td>\n",
              "      <td>4.0</td>\n",
              "    </tr>\n",
              "    <tr>\n",
              "      <th>8</th>\n",
              "      <td>1493733883963</td>\n",
              "      <td>SA0297</td>\n",
              "      <td>-0.0286</td>\n",
              "      <td>-0.0028</td>\n",
              "      <td>-0.0094</td>\n",
              "      <td>6.0</td>\n",
              "    </tr>\n",
              "    <tr>\n",
              "      <th>9</th>\n",
              "      <td>1493733883974</td>\n",
              "      <td>SA0297</td>\n",
              "      <td>-0.0543</td>\n",
              "      <td>-0.0410</td>\n",
              "      <td>-0.0109</td>\n",
              "      <td>11.0</td>\n",
              "    </tr>\n",
              "    <tr>\n",
              "      <th>10</th>\n",
              "      <td>1493733883977</td>\n",
              "      <td>SA0297</td>\n",
              "      <td>0.0070</td>\n",
              "      <td>-0.0050</td>\n",
              "      <td>-0.0849</td>\n",
              "      <td>3.0</td>\n",
              "    </tr>\n",
              "    <tr>\n",
              "      <th>11</th>\n",
              "      <td>1493733883991</td>\n",
              "      <td>SA0297</td>\n",
              "      <td>-0.0561</td>\n",
              "      <td>-0.0226</td>\n",
              "      <td>0.0134</td>\n",
              "      <td>14.0</td>\n",
              "    </tr>\n",
              "  </tbody>\n",
              "</table>\n",
              "</div>"
            ],
            "text/plain": [
              "             time     pid       x       y       z  time_diff\n",
              "2   1493733882409  SA0297  0.0758  0.0273 -0.0102        NaN\n",
              "3   1493733882455  SA0297 -0.0359  0.0794  0.0037       46.0\n",
              "4   1493733882500  SA0297 -0.2427 -0.0861 -0.0163       45.0\n",
              "5   1493733883945  SA0297 -0.2888  0.0514 -0.0145     1445.0\n",
              "6   1493733883953  SA0297 -0.0413 -0.0184 -0.0105        8.0\n",
              "7   1493733883957  SA0297 -0.0413 -0.0001  0.0017        4.0\n",
              "8   1493733883963  SA0297 -0.0286 -0.0028 -0.0094        6.0\n",
              "9   1493733883974  SA0297 -0.0543 -0.0410 -0.0109       11.0\n",
              "10  1493733883977  SA0297  0.0070 -0.0050 -0.0849        3.0\n",
              "11  1493733883991  SA0297 -0.0561 -0.0226  0.0134       14.0"
            ]
          },
          "metadata": {
            "tags": []
          },
          "execution_count": 10
        }
      ]
    },
    {
      "cell_type": "code",
      "metadata": {
        "id": "1c_JxkRq7eY9",
        "colab_type": "code",
        "colab": {}
      },
      "source": [
        "SA0297_TAC = pd.read_csv('/content/SA0297_clean_TAC.csv')"
      ],
      "execution_count": 11,
      "outputs": []
    },
    {
      "cell_type": "code",
      "metadata": {
        "id": "Ji_w2Svy7oRp",
        "colab_type": "code",
        "colab": {
          "base_uri": "https://localhost:8080/",
          "height": 168
        },
        "outputId": "693b4d77-fd91-4394-8383-5dabe4454421"
      },
      "source": [
        "SA0297_TAC.info()"
      ],
      "execution_count": 12,
      "outputs": [
        {
          "output_type": "stream",
          "text": [
            "<class 'pandas.core.frame.DataFrame'>\n",
            "RangeIndex: 58 entries, 0 to 57\n",
            "Data columns (total 2 columns):\n",
            " #   Column       Non-Null Count  Dtype  \n",
            "---  ------       --------------  -----  \n",
            " 0   timestamp    58 non-null     int64  \n",
            " 1   TAC_Reading  58 non-null     float64\n",
            "dtypes: float64(1), int64(1)\n",
            "memory usage: 1.0 KB\n"
          ],
          "name": "stdout"
        }
      ]
    },
    {
      "cell_type": "code",
      "metadata": {
        "id": "AZRBT-Bq7u8J",
        "colab_type": "code",
        "colab": {
          "base_uri": "https://localhost:8080/",
          "height": 343
        },
        "outputId": "347a828d-b3c8-4d24-e3bf-e1ef6cfd700a"
      },
      "source": [
        "SA0297_TAC.head(10)"
      ],
      "execution_count": 13,
      "outputs": [
        {
          "output_type": "execute_result",
          "data": {
            "text/html": [
              "<div>\n",
              "<style scoped>\n",
              "    .dataframe tbody tr th:only-of-type {\n",
              "        vertical-align: middle;\n",
              "    }\n",
              "\n",
              "    .dataframe tbody tr th {\n",
              "        vertical-align: top;\n",
              "    }\n",
              "\n",
              "    .dataframe thead th {\n",
              "        text-align: right;\n",
              "    }\n",
              "</style>\n",
              "<table border=\"1\" class=\"dataframe\">\n",
              "  <thead>\n",
              "    <tr style=\"text-align: right;\">\n",
              "      <th></th>\n",
              "      <th>timestamp</th>\n",
              "      <th>TAC_Reading</th>\n",
              "    </tr>\n",
              "  </thead>\n",
              "  <tbody>\n",
              "    <tr>\n",
              "      <th>0</th>\n",
              "      <td>1493716723</td>\n",
              "      <td>-0.010229</td>\n",
              "    </tr>\n",
              "    <tr>\n",
              "      <th>1</th>\n",
              "      <td>1493718546</td>\n",
              "      <td>-0.002512</td>\n",
              "    </tr>\n",
              "    <tr>\n",
              "      <th>2</th>\n",
              "      <td>1493718863</td>\n",
              "      <td>0.003249</td>\n",
              "    </tr>\n",
              "    <tr>\n",
              "      <th>3</th>\n",
              "      <td>1493719179</td>\n",
              "      <td>0.005404</td>\n",
              "    </tr>\n",
              "    <tr>\n",
              "      <th>4</th>\n",
              "      <td>1493719495</td>\n",
              "      <td>0.003377</td>\n",
              "    </tr>\n",
              "    <tr>\n",
              "      <th>5</th>\n",
              "      <td>1493719811</td>\n",
              "      <td>-0.001451</td>\n",
              "    </tr>\n",
              "    <tr>\n",
              "      <th>6</th>\n",
              "      <td>1493720127</td>\n",
              "      <td>-0.005816</td>\n",
              "    </tr>\n",
              "    <tr>\n",
              "      <th>7</th>\n",
              "      <td>1493720443</td>\n",
              "      <td>-0.006248</td>\n",
              "    </tr>\n",
              "    <tr>\n",
              "      <th>8</th>\n",
              "      <td>1493720759</td>\n",
              "      <td>-0.001631</td>\n",
              "    </tr>\n",
              "    <tr>\n",
              "      <th>9</th>\n",
              "      <td>1493721075</td>\n",
              "      <td>0.005332</td>\n",
              "    </tr>\n",
              "  </tbody>\n",
              "</table>\n",
              "</div>"
            ],
            "text/plain": [
              "    timestamp  TAC_Reading\n",
              "0  1493716723    -0.010229\n",
              "1  1493718546    -0.002512\n",
              "2  1493718863     0.003249\n",
              "3  1493719179     0.005404\n",
              "4  1493719495     0.003377\n",
              "5  1493719811    -0.001451\n",
              "6  1493720127    -0.005816\n",
              "7  1493720443    -0.006248\n",
              "8  1493720759    -0.001631\n",
              "9  1493721075     0.005332"
            ]
          },
          "metadata": {
            "tags": []
          },
          "execution_count": 13
        }
      ]
    },
    {
      "cell_type": "code",
      "metadata": {
        "id": "M4-SiB_rJGXc",
        "colab_type": "code",
        "colab": {
          "base_uri": "https://localhost:8080/",
          "height": 343
        },
        "outputId": "485de430-dfb9-41b5-fc77-67a2bd240a0a"
      },
      "source": [
        "# we have negative TAC values? upon inspection of raw TAC values, this is due to the filtering done on the data.\n",
        "# Are our timestamps evenly spaced?\n",
        "SA0297_TAC['time_diff'] = SA0297_TAC['timestamp'].diff(1)\n",
        "SA0297_TAC.head(10)"
      ],
      "execution_count": 14,
      "outputs": [
        {
          "output_type": "execute_result",
          "data": {
            "text/html": [
              "<div>\n",
              "<style scoped>\n",
              "    .dataframe tbody tr th:only-of-type {\n",
              "        vertical-align: middle;\n",
              "    }\n",
              "\n",
              "    .dataframe tbody tr th {\n",
              "        vertical-align: top;\n",
              "    }\n",
              "\n",
              "    .dataframe thead th {\n",
              "        text-align: right;\n",
              "    }\n",
              "</style>\n",
              "<table border=\"1\" class=\"dataframe\">\n",
              "  <thead>\n",
              "    <tr style=\"text-align: right;\">\n",
              "      <th></th>\n",
              "      <th>timestamp</th>\n",
              "      <th>TAC_Reading</th>\n",
              "      <th>time_diff</th>\n",
              "    </tr>\n",
              "  </thead>\n",
              "  <tbody>\n",
              "    <tr>\n",
              "      <th>0</th>\n",
              "      <td>1493716723</td>\n",
              "      <td>-0.010229</td>\n",
              "      <td>NaN</td>\n",
              "    </tr>\n",
              "    <tr>\n",
              "      <th>1</th>\n",
              "      <td>1493718546</td>\n",
              "      <td>-0.002512</td>\n",
              "      <td>1823.0</td>\n",
              "    </tr>\n",
              "    <tr>\n",
              "      <th>2</th>\n",
              "      <td>1493718863</td>\n",
              "      <td>0.003249</td>\n",
              "      <td>317.0</td>\n",
              "    </tr>\n",
              "    <tr>\n",
              "      <th>3</th>\n",
              "      <td>1493719179</td>\n",
              "      <td>0.005404</td>\n",
              "      <td>316.0</td>\n",
              "    </tr>\n",
              "    <tr>\n",
              "      <th>4</th>\n",
              "      <td>1493719495</td>\n",
              "      <td>0.003377</td>\n",
              "      <td>316.0</td>\n",
              "    </tr>\n",
              "    <tr>\n",
              "      <th>5</th>\n",
              "      <td>1493719811</td>\n",
              "      <td>-0.001451</td>\n",
              "      <td>316.0</td>\n",
              "    </tr>\n",
              "    <tr>\n",
              "      <th>6</th>\n",
              "      <td>1493720127</td>\n",
              "      <td>-0.005816</td>\n",
              "      <td>316.0</td>\n",
              "    </tr>\n",
              "    <tr>\n",
              "      <th>7</th>\n",
              "      <td>1493720443</td>\n",
              "      <td>-0.006248</td>\n",
              "      <td>316.0</td>\n",
              "    </tr>\n",
              "    <tr>\n",
              "      <th>8</th>\n",
              "      <td>1493720759</td>\n",
              "      <td>-0.001631</td>\n",
              "      <td>316.0</td>\n",
              "    </tr>\n",
              "    <tr>\n",
              "      <th>9</th>\n",
              "      <td>1493721075</td>\n",
              "      <td>0.005332</td>\n",
              "      <td>316.0</td>\n",
              "    </tr>\n",
              "  </tbody>\n",
              "</table>\n",
              "</div>"
            ],
            "text/plain": [
              "    timestamp  TAC_Reading  time_diff\n",
              "0  1493716723    -0.010229        NaN\n",
              "1  1493718546    -0.002512     1823.0\n",
              "2  1493718863     0.003249      317.0\n",
              "3  1493719179     0.005404      316.0\n",
              "4  1493719495     0.003377      316.0\n",
              "5  1493719811    -0.001451      316.0\n",
              "6  1493720127    -0.005816      316.0\n",
              "7  1493720443    -0.006248      316.0\n",
              "8  1493720759    -0.001631      316.0\n",
              "9  1493721075     0.005332      316.0"
            ]
          },
          "metadata": {
            "tags": []
          },
          "execution_count": 14
        }
      ]
    },
    {
      "cell_type": "code",
      "metadata": {
        "id": "5JhI1NpzL-zg",
        "colab_type": "code",
        "colab": {}
      },
      "source": [
        "# bin accelerometer data according to TAC timestamps\n",
        "cuts = list(SA0297_TAC['timestamp'] * 1000 ) # seconds to milleseconds\n",
        "cuts.insert(0, 0)\n",
        "labels = SA0297_TAC['TAC_Reading']\n",
        "\n",
        "bin_labels = range(len(cuts) - 1)\n",
        "\n",
        "SA0297_data['TAC_Reading'] = pd.cut(SA0297_data['time'], bins=cuts, labels=labels)\n",
        "# since TAC_Reading isn't unique, generate a bin column for the times\n",
        "# SA0297_data['bins'] = pd.cut(SA0297_data['time'], bins=cuts, labels=bin_labels)"
      ],
      "execution_count": 15,
      "outputs": []
    },
    {
      "cell_type": "code",
      "metadata": {
        "id": "M-X7hReEcle8",
        "colab_type": "code",
        "colab": {
          "base_uri": "https://localhost:8080/",
          "height": 402
        },
        "outputId": "105681f5-19ae-4c13-f6c6-09e729e461eb"
      },
      "source": [
        "SA0297_data.head(1000)"
      ],
      "execution_count": 16,
      "outputs": [
        {
          "output_type": "execute_result",
          "data": {
            "text/html": [
              "<div>\n",
              "<style scoped>\n",
              "    .dataframe tbody tr th:only-of-type {\n",
              "        vertical-align: middle;\n",
              "    }\n",
              "\n",
              "    .dataframe tbody tr th {\n",
              "        vertical-align: top;\n",
              "    }\n",
              "\n",
              "    .dataframe thead th {\n",
              "        text-align: right;\n",
              "    }\n",
              "</style>\n",
              "<table border=\"1\" class=\"dataframe\">\n",
              "  <thead>\n",
              "    <tr style=\"text-align: right;\">\n",
              "      <th></th>\n",
              "      <th>time</th>\n",
              "      <th>pid</th>\n",
              "      <th>x</th>\n",
              "      <th>y</th>\n",
              "      <th>z</th>\n",
              "      <th>time_diff</th>\n",
              "      <th>TAC_Reading</th>\n",
              "    </tr>\n",
              "  </thead>\n",
              "  <tbody>\n",
              "    <tr>\n",
              "      <th>2</th>\n",
              "      <td>1493733882409</td>\n",
              "      <td>SA0297</td>\n",
              "      <td>0.0758</td>\n",
              "      <td>0.0273</td>\n",
              "      <td>-0.0102</td>\n",
              "      <td>NaN</td>\n",
              "      <td>0.032672</td>\n",
              "    </tr>\n",
              "    <tr>\n",
              "      <th>3</th>\n",
              "      <td>1493733882455</td>\n",
              "      <td>SA0297</td>\n",
              "      <td>-0.0359</td>\n",
              "      <td>0.0794</td>\n",
              "      <td>0.0037</td>\n",
              "      <td>46.0</td>\n",
              "      <td>0.032672</td>\n",
              "    </tr>\n",
              "    <tr>\n",
              "      <th>4</th>\n",
              "      <td>1493733882500</td>\n",
              "      <td>SA0297</td>\n",
              "      <td>-0.2427</td>\n",
              "      <td>-0.0861</td>\n",
              "      <td>-0.0163</td>\n",
              "      <td>45.0</td>\n",
              "      <td>0.032672</td>\n",
              "    </tr>\n",
              "    <tr>\n",
              "      <th>5</th>\n",
              "      <td>1493733883945</td>\n",
              "      <td>SA0297</td>\n",
              "      <td>-0.2888</td>\n",
              "      <td>0.0514</td>\n",
              "      <td>-0.0145</td>\n",
              "      <td>1445.0</td>\n",
              "      <td>0.032672</td>\n",
              "    </tr>\n",
              "    <tr>\n",
              "      <th>6</th>\n",
              "      <td>1493733883953</td>\n",
              "      <td>SA0297</td>\n",
              "      <td>-0.0413</td>\n",
              "      <td>-0.0184</td>\n",
              "      <td>-0.0105</td>\n",
              "      <td>8.0</td>\n",
              "      <td>0.032672</td>\n",
              "    </tr>\n",
              "    <tr>\n",
              "      <th>...</th>\n",
              "      <td>...</td>\n",
              "      <td>...</td>\n",
              "      <td>...</td>\n",
              "      <td>...</td>\n",
              "      <td>...</td>\n",
              "      <td>...</td>\n",
              "      <td>...</td>\n",
              "    </tr>\n",
              "    <tr>\n",
              "      <th>997</th>\n",
              "      <td>1493733927505</td>\n",
              "      <td>SA0297</td>\n",
              "      <td>0.0002</td>\n",
              "      <td>-0.0009</td>\n",
              "      <td>0.0001</td>\n",
              "      <td>45.0</td>\n",
              "      <td>0.032672</td>\n",
              "    </tr>\n",
              "    <tr>\n",
              "      <th>998</th>\n",
              "      <td>1493733927550</td>\n",
              "      <td>SA0297</td>\n",
              "      <td>-0.0005</td>\n",
              "      <td>-0.0012</td>\n",
              "      <td>0.0007</td>\n",
              "      <td>45.0</td>\n",
              "      <td>0.032672</td>\n",
              "    </tr>\n",
              "    <tr>\n",
              "      <th>999</th>\n",
              "      <td>1493733927685</td>\n",
              "      <td>SA0297</td>\n",
              "      <td>-0.0002</td>\n",
              "      <td>0.0007</td>\n",
              "      <td>-0.0009</td>\n",
              "      <td>135.0</td>\n",
              "      <td>0.032672</td>\n",
              "    </tr>\n",
              "    <tr>\n",
              "      <th>1000</th>\n",
              "      <td>1493733927729</td>\n",
              "      <td>SA0297</td>\n",
              "      <td>-0.0005</td>\n",
              "      <td>0.0018</td>\n",
              "      <td>0.0005</td>\n",
              "      <td>44.0</td>\n",
              "      <td>0.032672</td>\n",
              "    </tr>\n",
              "    <tr>\n",
              "      <th>1001</th>\n",
              "      <td>1493733927775</td>\n",
              "      <td>SA0297</td>\n",
              "      <td>-0.0012</td>\n",
              "      <td>-0.0029</td>\n",
              "      <td>-0.0020</td>\n",
              "      <td>46.0</td>\n",
              "      <td>0.032672</td>\n",
              "    </tr>\n",
              "  </tbody>\n",
              "</table>\n",
              "<p>1000 rows × 7 columns</p>\n",
              "</div>"
            ],
            "text/plain": [
              "               time     pid       x       y       z  time_diff TAC_Reading\n",
              "2     1493733882409  SA0297  0.0758  0.0273 -0.0102        NaN    0.032672\n",
              "3     1493733882455  SA0297 -0.0359  0.0794  0.0037       46.0    0.032672\n",
              "4     1493733882500  SA0297 -0.2427 -0.0861 -0.0163       45.0    0.032672\n",
              "5     1493733883945  SA0297 -0.2888  0.0514 -0.0145     1445.0    0.032672\n",
              "6     1493733883953  SA0297 -0.0413 -0.0184 -0.0105        8.0    0.032672\n",
              "...             ...     ...     ...     ...     ...        ...         ...\n",
              "997   1493733927505  SA0297  0.0002 -0.0009  0.0001       45.0    0.032672\n",
              "998   1493733927550  SA0297 -0.0005 -0.0012  0.0007       45.0    0.032672\n",
              "999   1493733927685  SA0297 -0.0002  0.0007 -0.0009      135.0    0.032672\n",
              "1000  1493733927729  SA0297 -0.0005  0.0018  0.0005       44.0    0.032672\n",
              "1001  1493733927775  SA0297 -0.0012 -0.0029 -0.0020       46.0    0.032672\n",
              "\n",
              "[1000 rows x 7 columns]"
            ]
          },
          "metadata": {
            "tags": []
          },
          "execution_count": 16
        }
      ]
    },
    {
      "cell_type": "code",
      "metadata": {
        "id": "4U9kZA_Fdw-T",
        "colab_type": "code",
        "colab": {
          "base_uri": "https://localhost:8080/",
          "height": 50
        },
        "outputId": "a4740073-3175-4a0a-ca1d-8be421a116f0"
      },
      "source": [
        "SA0297_data['TAC_Reading'].unique()"
      ],
      "execution_count": null,
      "outputs": [
        {
          "output_type": "execute_result",
          "data": {
            "text/plain": [
              "[0.032672, 0.023972, 0.160592, 0.182644]\n",
              "Categories (4, float64): [0.032672 < 0.023972 < 0.160592 < 0.182644]"
            ]
          },
          "metadata": {
            "tags": []
          },
          "execution_count": 72
        }
      ]
    },
    {
      "cell_type": "code",
      "metadata": {
        "id": "wQgrCX2ZL_W9",
        "colab_type": "code",
        "colab": {
          "base_uri": "https://localhost:8080/",
          "height": 295
        },
        "outputId": "58e87a3f-2a17-446e-c15e-d65bc2a28fe9"
      },
      "source": [
        "plt.scatter(SA0297_data['time'], SA0297_data['TAC_Reading'])"
      ],
      "execution_count": null,
      "outputs": [
        {
          "output_type": "execute_result",
          "data": {
            "text/plain": [
              "<matplotlib.collections.PathCollection at 0x7f1f7aa75668>"
            ]
          },
          "metadata": {
            "tags": []
          },
          "execution_count": 73
        },
        {
          "output_type": "display_data",
          "data": {
            "image/png": "[encoded data removed]",
            "text/plain": [
              "<Figure size 432x288 with 1 Axes>"
            ]
          },
          "metadata": {
            "tags": [],
            "needs_background": "light"
          }
        }
      ]
    },
    {
      "cell_type": "code",
      "metadata": {
        "id": "wypIepPgL_qL",
        "colab_type": "code",
        "colab": {}
      },
      "source": [
        "# sum distance moved in each direction by each TAC Reading time interval\n",
        "# A = pd.ToDataFrame()\n",
        "dim = ['x', 'y', 'z']\n",
        "for col in dim:\n",
        "  SA0297_data[col] = SA0297_data[col].abs()\n",
        "\n",
        "means = SA0297_data[dim + ['TAC_Reading']].groupby('TAC_Reading').mean()"
      ],
      "execution_count": null,
      "outputs": []
    },
    {
      "cell_type": "code",
      "metadata": {
        "id": "tS4nCapaUkwz",
        "colab_type": "code",
        "colab": {}
      },
      "source": [
        "# extract only values where we have data for\n",
        "means = means.dropna().reset_index()\n",
        "means.columns = ['TAC_Reading', 'mean_x', 'mean_y', 'mean_z']"
      ],
      "execution_count": null,
      "outputs": []
    },
    {
      "cell_type": "code",
      "metadata": {
        "id": "0v1wneOrjkEO",
        "colab_type": "code",
        "colab": {
          "base_uri": "https://localhost:8080/",
          "height": 166
        },
        "outputId": "f0c554b3-2310-4882-81b9-26f99d0d84fb"
      },
      "source": [
        "means.head()"
      ],
      "execution_count": null,
      "outputs": [
        {
          "output_type": "execute_result",
          "data": {
            "text/html": [
              "<div>\n",
              "<style scoped>\n",
              "    .dataframe tbody tr th:only-of-type {\n",
              "        vertical-align: middle;\n",
              "    }\n",
              "\n",
              "    .dataframe tbody tr th {\n",
              "        vertical-align: top;\n",
              "    }\n",
              "\n",
              "    .dataframe thead th {\n",
              "        text-align: right;\n",
              "    }\n",
              "</style>\n",
              "<table border=\"1\" class=\"dataframe\">\n",
              "  <thead>\n",
              "    <tr style=\"text-align: right;\">\n",
              "      <th></th>\n",
              "      <th>TAC_Reading</th>\n",
              "      <th>mean_x</th>\n",
              "      <th>mean_y</th>\n",
              "      <th>mean_z</th>\n",
              "    </tr>\n",
              "  </thead>\n",
              "  <tbody>\n",
              "    <tr>\n",
              "      <th>0</th>\n",
              "      <td>0.032672</td>\n",
              "      <td>0.109312</td>\n",
              "      <td>0.098836</td>\n",
              "      <td>0.116940</td>\n",
              "    </tr>\n",
              "    <tr>\n",
              "      <th>1</th>\n",
              "      <td>0.023972</td>\n",
              "      <td>0.130532</td>\n",
              "      <td>0.119688</td>\n",
              "      <td>0.138402</td>\n",
              "    </tr>\n",
              "    <tr>\n",
              "      <th>2</th>\n",
              "      <td>0.160592</td>\n",
              "      <td>0.030220</td>\n",
              "      <td>0.129388</td>\n",
              "      <td>0.395968</td>\n",
              "    </tr>\n",
              "    <tr>\n",
              "      <th>3</th>\n",
              "      <td>0.182644</td>\n",
              "      <td>0.139431</td>\n",
              "      <td>0.135425</td>\n",
              "      <td>0.128544</td>\n",
              "    </tr>\n",
              "  </tbody>\n",
              "</table>\n",
              "</div>"
            ],
            "text/plain": [
              "  TAC_Reading    mean_x    mean_y    mean_z\n",
              "0    0.032672  0.109312  0.098836  0.116940\n",
              "1    0.023972  0.130532  0.119688  0.138402\n",
              "2    0.160592  0.030220  0.129388  0.395968\n",
              "3    0.182644  0.139431  0.135425  0.128544"
            ]
          },
          "metadata": {
            "tags": []
          },
          "execution_count": 90
        }
      ]
    },
    {
      "cell_type": "code",
      "metadata": {
        "id": "sna71_uhgKM5",
        "colab_type": "code",
        "colab": {
          "base_uri": "https://localhost:8080/",
          "height": 282
        },
        "outputId": "2ce595d6-814c-4aa8-bb97-b4966cc7f8f5"
      },
      "source": [
        "\n",
        "plt.scatter(means['mean_x'], means['TAC_Reading'])"
      ],
      "execution_count": null,
      "outputs": [
        {
          "output_type": "execute_result",
          "data": {
            "text/plain": [
              "<matplotlib.collections.PathCollection at 0x7f1f7903a2b0>"
            ]
          },
          "metadata": {
            "tags": []
          },
          "execution_count": 92
        },
        {
          "output_type": "display_data",
          "data": {
            "image/png": "[encoded data removed]",
            "text/plain": [
              "<Figure size 432x288 with 1 Axes>"
            ]
          },
          "metadata": {
            "tags": [],
            "needs_background": "light"
          }
        }
      ]
    },
    {
      "cell_type": "code",
      "metadata": {
        "id": "Ixy6bLAjjxc5",
        "colab_type": "code",
        "colab": {
          "base_uri": "https://localhost:8080/",
          "height": 282
        },
        "outputId": "ff9cb4fe-96a7-4b34-c457-335625bf4681"
      },
      "source": [
        "plt.scatter(means['mean_y'], means['TAC_Reading'])"
      ],
      "execution_count": null,
      "outputs": [
        {
          "output_type": "execute_result",
          "data": {
            "text/plain": [
              "<matplotlib.collections.PathCollection at 0x7f1f78f96668>"
            ]
          },
          "metadata": {
            "tags": []
          },
          "execution_count": 93
        },
        {
          "output_type": "display_data",
          "data": {
            "image/png": "[encoded data removed]",
            "text/plain": [
              "<Figure size 432x288 with 1 Axes>"
            ]
          },
          "metadata": {
            "tags": [],
            "needs_background": "light"
          }
        }
      ]
    },
    {
      "cell_type": "code",
      "metadata": {
        "id": "fhGvxrIXjyLV",
        "colab_type": "code",
        "colab": {
          "base_uri": "https://localhost:8080/",
          "height": 282
        },
        "outputId": "6b02bd65-95dc-4560-be43-ef48cf702a24"
      },
      "source": [
        "plt.scatter(means['mean_z'], means['TAC_Reading'])"
      ],
      "execution_count": null,
      "outputs": [
        {
          "output_type": "execute_result",
          "data": {
            "text/plain": [
              "<matplotlib.collections.PathCollection at 0x7f1f78f00860>"
            ]
          },
          "metadata": {
            "tags": []
          },
          "execution_count": 94
        },
        {
          "output_type": "display_data",
          "data": {
            "image/png": "[encoded data removed]",
            "text/plain": [
              "<Figure size 432x288 with 1 Axes>"
            ]
          },
          "metadata": {
            "tags": [],
            "needs_background": "light"
          }
        }
      ]
    },
    {
      "cell_type": "code",
      "metadata": {
        "id": "4VANBhL0kA7i",
        "colab_type": "code",
        "colab": {}
      },
      "source": [
        "means['pid'] = 'SA0297'"
      ],
      "execution_count": null,
      "outputs": []
    },
    {
      "cell_type": "code",
      "metadata": {
        "id": "yhHVKV9wkJ6D",
        "colab_type": "code",
        "colab": {
          "base_uri": "https://localhost:8080/",
          "height": 166
        },
        "outputId": "bcb7ad06-599c-4309-ddb4-40d67c5fc95d"
      },
      "source": [
        "means.head()"
      ],
      "execution_count": null,
      "outputs": [
        {
          "output_type": "execute_result",
          "data": {
            "text/html": [
              "<div>\n",
              "<style scoped>\n",
              "    .dataframe tbody tr th:only-of-type {\n",
              "        vertical-align: middle;\n",
              "    }\n",
              "\n",
              "    .dataframe tbody tr th {\n",
              "        vertical-align: top;\n",
              "    }\n",
              "\n",
              "    .dataframe thead th {\n",
              "        text-align: right;\n",
              "    }\n",
              "</style>\n",
              "<table border=\"1\" class=\"dataframe\">\n",
              "  <thead>\n",
              "    <tr style=\"text-align: right;\">\n",
              "      <th></th>\n",
              "      <th>TAC_Reading</th>\n",
              "      <th>mean_x</th>\n",
              "      <th>mean_y</th>\n",
              "      <th>mean_z</th>\n",
              "      <th>pid</th>\n",
              "    </tr>\n",
              "  </thead>\n",
              "  <tbody>\n",
              "    <tr>\n",
              "      <th>0</th>\n",
              "      <td>0.032672</td>\n",
              "      <td>0.109312</td>\n",
              "      <td>0.098836</td>\n",
              "      <td>0.116940</td>\n",
              "      <td>SA0297</td>\n",
              "    </tr>\n",
              "    <tr>\n",
              "      <th>1</th>\n",
              "      <td>0.023972</td>\n",
              "      <td>0.130532</td>\n",
              "      <td>0.119688</td>\n",
              "      <td>0.138402</td>\n",
              "      <td>SA0297</td>\n",
              "    </tr>\n",
              "    <tr>\n",
              "      <th>2</th>\n",
              "      <td>0.160592</td>\n",
              "      <td>0.030220</td>\n",
              "      <td>0.129388</td>\n",
              "      <td>0.395968</td>\n",
              "      <td>SA0297</td>\n",
              "    </tr>\n",
              "    <tr>\n",
              "      <th>3</th>\n",
              "      <td>0.182644</td>\n",
              "      <td>0.139431</td>\n",
              "      <td>0.135425</td>\n",
              "      <td>0.128544</td>\n",
              "      <td>SA0297</td>\n",
              "    </tr>\n",
              "  </tbody>\n",
              "</table>\n",
              "</div>"
            ],
            "text/plain": [
              "  TAC_Reading    mean_x    mean_y    mean_z     pid\n",
              "0    0.032672  0.109312  0.098836  0.116940  SA0297\n",
              "1    0.023972  0.130532  0.119688  0.138402  SA0297\n",
              "2    0.160592  0.030220  0.129388  0.395968  SA0297\n",
              "3    0.182644  0.139431  0.135425  0.128544  SA0297"
            ]
          },
          "metadata": {
            "tags": []
          },
          "execution_count": 96
        }
      ]
    },
    {
      "cell_type": "code",
      "metadata": {
        "id": "6vS7-N_nkX3g",
        "colab_type": "code",
        "colab": {}
      },
      "source": [
        "# now apply this to all participants in the dataset\n",
        "pids = accel_data.pid.unique()\n",
        "starting_dfs = {}\n",
        "non_agg_dfs = {}\n",
        "final_dfs = {}\n",
        "dims = ['x', 'y', 'z']\n",
        "\n",
        "\n",
        "def calculate_abs_means(df, cols, group_by_col):\n",
        "    for col in cols:\n",
        "        df[col] = df[col].abs()\n",
        "    \n",
        "    means = df[cols + [group_by_col]].groupby(group_by_col).mean()\n",
        "    means = means.dropna().reset_index()\n",
        "    means.columns = ['TAC_Reading', 'mean_x', 'mean_y', 'mean_z']\n",
        "    \n",
        "    return means\n",
        "\n",
        "def calculate_vars(df, cols, group_by_col):\n",
        "    vars = df[cols + [group_by_col]].groupby(group_by_col).var()\n",
        "    vars = vars.dropna().reset_index()\n",
        "    vars.columns = ['TAC_Reading', 'var_x', 'var_y', 'var_z']\n",
        "\n",
        "    return vars"
      ],
      "execution_count": 17,
      "outputs": []
    },
    {
      "cell_type": "code",
      "metadata": {
        "id": "AyfP6uvakX1d",
        "colab_type": "code",
        "colab": {
          "base_uri": "https://localhost:8080/",
          "height": 1000
        },
        "outputId": "f6c546ba-c7a2-4dbc-df9b-a78bc46c269e"
      },
      "source": [
        "starting_dfs = accel_data.groupby(accel_data.pid)\n",
        "\n",
        "for p in pids:\n",
        "    accel_data_p = starting_dfs.get_group(p).sort_values('time')\n",
        "    tac_data_p = pd.read_csv('/content/' + p + '_clean_TAC.csv')\n",
        "\n",
        "    cuts = list(tac_data_p['timestamp'] * 1000 ) # seconds to milleseconds\n",
        "    cuts.insert(0, 0)\n",
        "    labels = tac_data_p['TAC_Reading']\n",
        "\n",
        "    accel_data_p['TAC_Reading'] = pd.cut(accel_data_p['time'], bins=cuts, labels=labels)\n",
        "    accel_data_p = accel_data_p.dropna(subset=['TAC_Reading'])\n",
        "    non_agg_dfs['p'] = accel_data_p\n",
        "\n",
        "    # group by 10 second intervals = 10000 ms\n",
        "    accel_data_p['TAC_Reading'] = accel_data_p['TAC_Reading'].round(5)\n",
        "    groups = accel_data_p.groupby('TAC_Reading')\n",
        "    MULT = 10000\n",
        "    temp_concat = []\n",
        "\n",
        "    for k in groups.groups.keys():\n",
        "        single_group = groups.get_group(k)\n",
        "        count = len(single_group)\n",
        "        print(count)\n",
        "\n",
        "        # take also a final group of size MULT by taking nrows - MULT to end of df\n",
        "        remain = count % MULT\n",
        "        row_ranges = list(range(0, count, MULT))\n",
        "        row_ranges.append(count - remain)\n",
        "        for i in range(len(row_ranges) - 1 ):\n",
        "            subset = single_group.reset_index().iloc[row_ranges[i]:row_ranges[i + 1],]\n",
        "            means_p = calculate_abs_means(single_group, dims, 'TAC_Reading')\n",
        "            vars_p = calculate_vars(single_group, dims, 'TAC_Reading')\n",
        "\n",
        "            merged_p = means_p.merge(vars_p, on='TAC_Reading')\n",
        "            temp_concat.append(merged_p)\n",
        "    \n",
        "    concat_p = pd.concat(temp_concat)     \n",
        "\n",
        "    concat_p['pid'] = p\n",
        "\n",
        "    final_dfs[p] = concat_p\n"
      ],
      "execution_count": 35,
      "outputs": [
        {
          "output_type": "stream",
          "text": [
            "23179\n",
            "25724\n",
            "55164\n"
          ],
          "name": "stdout"
        },
        {
          "output_type": "stream",
          "text": [
            "/usr/local/lib/python3.6/dist-packages/ipykernel_launcher.py:11: SettingWithCopyWarning: \n",
            "A value is trying to be set on a copy of a slice from a DataFrame.\n",
            "Try using .loc[row_indexer,col_indexer] = value instead\n",
            "\n",
            "See the caveats in the documentation: https://pandas.pydata.org/pandas-docs/stable/user_guide/indexing.html#returning-a-view-versus-a-copy\n",
            "  # This is added back by InteractiveShellApp.init_path()\n"
          ],
          "name": "stderr"
        },
        {
          "output_type": "stream",
          "text": [
            "68781\n",
            "42412\n",
            "45567\n",
            "45806\n",
            "38422\n",
            "62864\n",
            "35064\n",
            "71144\n",
            "31487\n",
            "49913\n",
            "45727\n",
            "43873\n",
            "43622\n",
            "32493\n",
            "72117\n",
            "40054\n",
            "40571\n",
            "55641\n",
            "47479\n",
            "51967\n",
            "62839\n",
            "45838\n",
            "72176\n",
            "71885\n",
            "70967\n",
            "79083\n",
            "73192\n",
            "72509\n",
            "71604\n",
            "82361\n",
            "72635\n",
            "71574\n",
            "71569\n",
            "78679\n",
            "9955\n",
            "69559\n",
            "18326\n",
            "68600\n",
            "46098\n",
            "73155\n",
            "45753\n",
            "20054\n",
            "7756\n",
            "43582\n",
            "73271\n",
            "18501\n",
            "7137\n",
            "11157\n",
            "39364\n",
            "26872\n",
            "14019\n",
            "21527\n",
            "32665\n",
            "10844\n",
            "18386\n",
            "28289\n",
            "17990\n",
            "29835\n",
            "23985\n",
            "20972\n",
            "40143\n",
            "40210\n",
            "40150\n",
            "40187\n",
            "40148\n",
            "40083\n",
            "40135\n",
            "40165\n",
            "28580\n",
            "17204\n",
            "3949\n",
            "40164\n",
            "10844\n",
            "8074\n",
            "18290\n",
            "40655\n",
            "40563\n",
            "19958\n",
            "5250\n",
            "25314\n",
            "25485\n",
            "3992\n",
            "303\n",
            "269\n",
            "34199\n",
            "11711\n",
            "72535\n",
            "72533\n",
            "72534\n",
            "72532\n",
            "72526\n",
            "72530\n",
            "72531\n",
            "72535\n",
            "71532\n",
            "72527\n",
            "30359\n",
            "72525\n",
            "72543\n",
            "69464\n",
            "59378\n",
            "52178\n",
            "14740\n",
            "49950\n",
            "45948\n",
            "76810\n",
            "71519\n",
            "62738\n",
            "13476\n",
            "29137\n",
            "73809\n",
            "73211\n",
            "73773\n",
            "42535\n",
            "40781\n",
            "72728\n",
            "70856\n",
            "81383\n",
            "79709\n",
            "75676\n",
            "80836\n",
            "73011\n",
            "23324\n",
            "73687\n",
            "73608\n",
            "71612\n",
            "73574\n",
            "71614\n",
            "15412\n",
            "560\n",
            "70179\n",
            "69173\n",
            "70215\n",
            "69020\n",
            "67192\n",
            "37723\n",
            "34963\n",
            "69209\n",
            "23778\n",
            "17950\n",
            "45984\n",
            "21976\n",
            "17103\n",
            "2329\n",
            "58486\n",
            "10988\n",
            "73440\n",
            "48402\n",
            "73580\n",
            "135\n",
            "12161\n",
            "12979\n",
            "45258\n",
            "73596\n",
            "23983\n",
            "72005\n",
            "63976\n",
            "73046\n",
            "73655\n",
            "73655\n",
            "5215\n",
            "54001\n",
            "15865\n",
            "2995\n",
            "41074\n",
            "73799\n",
            "49218\n",
            "73756\n",
            "73710\n",
            "25714\n",
            "23915\n",
            "81341\n",
            "6026\n",
            "39944\n",
            "1557\n",
            "34334\n",
            "67494\n",
            "58918\n",
            "65636\n",
            "72411\n",
            "7176\n",
            "73200\n",
            "73082\n",
            "72125\n",
            "73481\n",
            "73093\n",
            "4544\n",
            "73203\n",
            "73194\n",
            "145444\n",
            "73061\n",
            "19305\n",
            "74020\n",
            "73499\n",
            "79497\n",
            "17402\n",
            "39957\n",
            "27329\n",
            "999\n",
            "2637\n",
            "11984\n",
            "35961\n",
            "494\n",
            "20473\n",
            "72691\n",
            "73740\n",
            "73797\n",
            "71774\n",
            "14112\n",
            "73584\n",
            "73751\n",
            "73712\n",
            "39335\n",
            "73488\n",
            "1998\n",
            "27369\n",
            "59533\n",
            "72602\n",
            "72598\n",
            "72519\n",
            "72557\n",
            "72560\n",
            "72599\n",
            "72589\n",
            "72558\n",
            "72597\n",
            "72543\n",
            "73183\n",
            "73139\n",
            "71905\n",
            "7388\n",
            "73226\n",
            "299\n"
          ],
          "name": "stdout"
        }
      ]
    },
    {
      "cell_type": "code",
      "metadata": {
        "id": "1rk0FI7jkXzk",
        "colab_type": "code",
        "colab": {}
      },
      "source": [
        "# generate combined df\n",
        "combined_df = pd.concat(final_dfs.values()) "
      ],
      "execution_count": 36,
      "outputs": []
    },
    {
      "cell_type": "code",
      "metadata": {
        "id": "8uBYC3nQtGpN",
        "colab_type": "code",
        "colab": {
          "base_uri": "https://localhost:8080/",
          "height": 195
        },
        "outputId": "26e2b14b-6bf0-43dd-973f-df062654c480"
      },
      "source": [
        "combined_df.head()"
      ],
      "execution_count": 37,
      "outputs": [
        {
          "output_type": "execute_result",
          "data": {
            "text/html": [
              "<div>\n",
              "<style scoped>\n",
              "    .dataframe tbody tr th:only-of-type {\n",
              "        vertical-align: middle;\n",
              "    }\n",
              "\n",
              "    .dataframe tbody tr th {\n",
              "        vertical-align: top;\n",
              "    }\n",
              "\n",
              "    .dataframe thead th {\n",
              "        text-align: right;\n",
              "    }\n",
              "</style>\n",
              "<table border=\"1\" class=\"dataframe\">\n",
              "  <thead>\n",
              "    <tr style=\"text-align: right;\">\n",
              "      <th></th>\n",
              "      <th>TAC_Reading</th>\n",
              "      <th>mean_x</th>\n",
              "      <th>mean_y</th>\n",
              "      <th>mean_z</th>\n",
              "      <th>var_x</th>\n",
              "      <th>var_y</th>\n",
              "      <th>var_z</th>\n",
              "      <th>pid</th>\n",
              "    </tr>\n",
              "  </thead>\n",
              "  <tbody>\n",
              "    <tr>\n",
              "      <th>0</th>\n",
              "      <td>0.02792</td>\n",
              "      <td>0.135799</td>\n",
              "      <td>0.072888</td>\n",
              "      <td>0.270933</td>\n",
              "      <td>0.062644</td>\n",
              "      <td>0.012252</td>\n",
              "      <td>0.115202</td>\n",
              "      <td>JB3156</td>\n",
              "    </tr>\n",
              "    <tr>\n",
              "      <th>0</th>\n",
              "      <td>0.02792</td>\n",
              "      <td>0.135799</td>\n",
              "      <td>0.072888</td>\n",
              "      <td>0.270933</td>\n",
              "      <td>0.062644</td>\n",
              "      <td>0.012252</td>\n",
              "      <td>0.115202</td>\n",
              "      <td>JB3156</td>\n",
              "    </tr>\n",
              "    <tr>\n",
              "      <th>0</th>\n",
              "      <td>0.02792</td>\n",
              "      <td>0.135799</td>\n",
              "      <td>0.072888</td>\n",
              "      <td>0.270933</td>\n",
              "      <td>0.062644</td>\n",
              "      <td>0.012252</td>\n",
              "      <td>0.115202</td>\n",
              "      <td>JB3156</td>\n",
              "    </tr>\n",
              "    <tr>\n",
              "      <th>0</th>\n",
              "      <td>0.03555</td>\n",
              "      <td>1.821660</td>\n",
              "      <td>2.576077</td>\n",
              "      <td>3.471074</td>\n",
              "      <td>7.421240</td>\n",
              "      <td>11.401192</td>\n",
              "      <td>30.671136</td>\n",
              "      <td>JB3156</td>\n",
              "    </tr>\n",
              "    <tr>\n",
              "      <th>0</th>\n",
              "      <td>0.03555</td>\n",
              "      <td>1.821660</td>\n",
              "      <td>2.576077</td>\n",
              "      <td>3.471074</td>\n",
              "      <td>7.421240</td>\n",
              "      <td>11.401192</td>\n",
              "      <td>30.671136</td>\n",
              "      <td>JB3156</td>\n",
              "    </tr>\n",
              "  </tbody>\n",
              "</table>\n",
              "</div>"
            ],
            "text/plain": [
              "   TAC_Reading    mean_x    mean_y  ...      var_y      var_z     pid\n",
              "0      0.02792  0.135799  0.072888  ...   0.012252   0.115202  JB3156\n",
              "0      0.02792  0.135799  0.072888  ...   0.012252   0.115202  JB3156\n",
              "0      0.02792  0.135799  0.072888  ...   0.012252   0.115202  JB3156\n",
              "0      0.03555  1.821660  2.576077  ...  11.401192  30.671136  JB3156\n",
              "0      0.03555  1.821660  2.576077  ...  11.401192  30.671136  JB3156\n",
              "\n",
              "[5 rows x 8 columns]"
            ]
          },
          "metadata": {
            "tags": []
          },
          "execution_count": 37
        }
      ]
    },
    {
      "cell_type": "code",
      "metadata": {
        "id": "XDFojdU1kXwU",
        "colab_type": "code",
        "colab": {
          "base_uri": "https://localhost:8080/",
          "height": 168
        },
        "outputId": "d063e7a9-200f-4a50-d801-499d12cf95d8"
      },
      "source": [
        "combined_df.count()"
      ],
      "execution_count": 38,
      "outputs": [
        {
          "output_type": "execute_result",
          "data": {
            "text/plain": [
              "TAC_Reading    1277\n",
              "mean_x         1277\n",
              "mean_y         1277\n",
              "mean_z         1277\n",
              "var_x          1277\n",
              "var_y          1277\n",
              "var_z          1277\n",
              "pid            1277\n",
              "dtype: int64"
            ]
          },
          "metadata": {
            "tags": []
          },
          "execution_count": 38
        }
      ]
    },
    {
      "cell_type": "code",
      "metadata": {
        "id": "xS0GhoSGkXvJ",
        "colab_type": "code",
        "colab": {
          "base_uri": "https://localhost:8080/",
          "height": 282
        },
        "outputId": "4dee1845-9ea0-4759-c0a7-2f9a225f9e23"
      },
      "source": [
        "plt.scatter(combined_df['mean_x'], combined_df['TAC_Reading'])"
      ],
      "execution_count": 39,
      "outputs": [
        {
          "output_type": "execute_result",
          "data": {
            "text/plain": [
              "<matplotlib.collections.PathCollection at 0x7fae11f0f8d0>"
            ]
          },
          "metadata": {
            "tags": []
          },
          "execution_count": 39
        },
        {
          "output_type": "display_data",
          "data": {
            "image/png": "[encoded data removed]",
            "text/plain": [
              "<Figure size 432x288 with 1 Axes>"
            ]
          },
          "metadata": {
            "tags": [],
            "needs_background": "light"
          }
        }
      ]
    },
    {
      "cell_type": "code",
      "metadata": {
        "id": "QBels4R7kXq6",
        "colab_type": "code",
        "colab": {
          "base_uri": "https://localhost:8080/",
          "height": 295
        },
        "outputId": "809743ce-76c7-4214-8625-3687bde84537"
      },
      "source": [
        "plt.scatter(combined_df['mean_y'], combined_df['TAC_Reading'])"
      ],
      "execution_count": 40,
      "outputs": [
        {
          "output_type": "execute_result",
          "data": {
            "text/plain": [
              "<matplotlib.collections.PathCollection at 0x7fae11b72390>"
            ]
          },
          "metadata": {
            "tags": []
          },
          "execution_count": 40
        },
        {
          "output_type": "display_data",
          "data": {
            "image/png": "[encoded data removed]",
            "text/plain": [
              "<Figure size 432x288 with 1 Axes>"
            ]
          },
          "metadata": {
            "tags": [],
            "needs_background": "light"
          }
        }
      ]
    },
    {
      "cell_type": "code",
      "metadata": {
        "id": "LIw31HGfkXoq",
        "colab_type": "code",
        "colab": {
          "base_uri": "https://localhost:8080/",
          "height": 295
        },
        "outputId": "7f22e841-38de-4000-bc8d-f1c2263b738d"
      },
      "source": [
        "plt.scatter(combined_df['mean_z'], combined_df['TAC_Reading'])"
      ],
      "execution_count": 41,
      "outputs": [
        {
          "output_type": "execute_result",
          "data": {
            "text/plain": [
              "<matplotlib.collections.PathCollection at 0x7fae1199b978>"
            ]
          },
          "metadata": {
            "tags": []
          },
          "execution_count": 41
        },
        {
          "output_type": "display_data",
          "data": {
            "image/png": "[encoded data removed]",
            "text/plain": [
              "<Figure size 432x288 with 1 Axes>"
            ]
          },
          "metadata": {
            "tags": [],
            "needs_background": "light"
          }
        }
      ]
    },
    {
      "cell_type": "code",
      "metadata": {
        "id": "JORN2GVdtKSf",
        "colab_type": "code",
        "colab": {
          "base_uri": "https://localhost:8080/",
          "height": 282
        },
        "outputId": "549f797f-be3c-45b3-c03e-c9b71210eab9"
      },
      "source": [
        "plt.scatter(combined_df['var_x'], combined_df['TAC_Reading'])"
      ],
      "execution_count": 42,
      "outputs": [
        {
          "output_type": "execute_result",
          "data": {
            "text/plain": [
              "<matplotlib.collections.PathCollection at 0x7fae11836048>"
            ]
          },
          "metadata": {
            "tags": []
          },
          "execution_count": 42
        },
        {
          "output_type": "display_data",
          "data": {
            "image/png": "[encoded data removed]",
            "text/plain": [
              "<Figure size 432x288 with 1 Axes>"
            ]
          },
          "metadata": {
            "tags": [],
            "needs_background": "light"
          }
        }
      ]
    },
    {
      "cell_type": "code",
      "metadata": {
        "id": "8g8IGs7stKIX",
        "colab_type": "code",
        "colab": {
          "base_uri": "https://localhost:8080/",
          "height": 295
        },
        "outputId": "ac35291c-23a5-471a-858b-93a375ba2db0"
      },
      "source": [
        "plt.scatter(combined_df['var_y'], combined_df['TAC_Reading'])"
      ],
      "execution_count": 43,
      "outputs": [
        {
          "output_type": "execute_result",
          "data": {
            "text/plain": [
              "<matplotlib.collections.PathCollection at 0x7fae11b131d0>"
            ]
          },
          "metadata": {
            "tags": []
          },
          "execution_count": 43
        },
        {
          "output_type": "display_data",
          "data": {
            "image/png": "[encoded data removed]",
            "text/plain": [
              "<Figure size 432x288 with 1 Axes>"
            ]
          },
          "metadata": {
            "tags": [],
            "needs_background": "light"
          }
        }
      ]
    },
    {
      "cell_type": "code",
      "metadata": {
        "id": "jR_oBrNJtJ_F",
        "colab_type": "code",
        "colab": {
          "base_uri": "https://localhost:8080/",
          "height": 295
        },
        "outputId": "abdd6f4b-d026-4b78-af3a-0f4f1bc3d038"
      },
      "source": [
        "plt.scatter(combined_df['var_z'], combined_df['TAC_Reading'])"
      ],
      "execution_count": 44,
      "outputs": [
        {
          "output_type": "execute_result",
          "data": {
            "text/plain": [
              "<matplotlib.collections.PathCollection at 0x7fae11a58c50>"
            ]
          },
          "metadata": {
            "tags": []
          },
          "execution_count": 44
        },
        {
          "output_type": "display_data",
          "data": {
            "image/png": "[encoded data removed]",
            "text/plain": [
              "<Figure size 432x288 with 1 Axes>"
            ]
          },
          "metadata": {
            "tags": [],
            "needs_background": "light"
          }
        }
      ]
    },
    {
      "cell_type": "code",
      "metadata": {
        "id": "UldCib6PkXmH",
        "colab_type": "code",
        "colab": {}
      },
      "source": [
        "# relabel our index \n",
        "\n",
        "combined_df.loc[combined_df['TAC_Reading'] >= 0.08, 'Over Legal Limit'] = 'Yes'\n",
        "combined_df.loc[combined_df['TAC_Reading'] < 0.08, 'Over Legal Limit'] = 'No'"
      ],
      "execution_count": 118,
      "outputs": []
    },
    {
      "cell_type": "code",
      "metadata": {
        "id": "Wld8tqVUvA1G",
        "colab_type": "code",
        "colab": {
          "base_uri": "https://localhost:8080/",
          "height": 195
        },
        "outputId": "761a7bb9-f12f-46a3-f130-a0e72ec2e1dc"
      },
      "source": [
        "# drop TAC Reading as it is basically a label and cannot be used in features\n",
        "labeled_df = combined_df.drop('TAC_Reading', axis=1)\n",
        "labeled_df.head()"
      ],
      "execution_count": 119,
      "outputs": [
        {
          "output_type": "execute_result",
          "data": {
            "text/html": [
              "<div>\n",
              "<style scoped>\n",
              "    .dataframe tbody tr th:only-of-type {\n",
              "        vertical-align: middle;\n",
              "    }\n",
              "\n",
              "    .dataframe tbody tr th {\n",
              "        vertical-align: top;\n",
              "    }\n",
              "\n",
              "    .dataframe thead th {\n",
              "        text-align: right;\n",
              "    }\n",
              "</style>\n",
              "<table border=\"1\" class=\"dataframe\">\n",
              "  <thead>\n",
              "    <tr style=\"text-align: right;\">\n",
              "      <th></th>\n",
              "      <th>mean_x</th>\n",
              "      <th>mean_y</th>\n",
              "      <th>mean_z</th>\n",
              "      <th>var_x</th>\n",
              "      <th>var_y</th>\n",
              "      <th>var_z</th>\n",
              "      <th>pid</th>\n",
              "      <th>Over Legal Limit</th>\n",
              "    </tr>\n",
              "  </thead>\n",
              "  <tbody>\n",
              "    <tr>\n",
              "      <th>0</th>\n",
              "      <td>0.135799</td>\n",
              "      <td>0.072888</td>\n",
              "      <td>0.270933</td>\n",
              "      <td>0.062644</td>\n",
              "      <td>0.012252</td>\n",
              "      <td>0.115202</td>\n",
              "      <td>JB3156</td>\n",
              "      <td>No</td>\n",
              "    </tr>\n",
              "    <tr>\n",
              "      <th>0</th>\n",
              "      <td>0.135799</td>\n",
              "      <td>0.072888</td>\n",
              "      <td>0.270933</td>\n",
              "      <td>0.062644</td>\n",
              "      <td>0.012252</td>\n",
              "      <td>0.115202</td>\n",
              "      <td>JB3156</td>\n",
              "      <td>No</td>\n",
              "    </tr>\n",
              "    <tr>\n",
              "      <th>0</th>\n",
              "      <td>0.135799</td>\n",
              "      <td>0.072888</td>\n",
              "      <td>0.270933</td>\n",
              "      <td>0.062644</td>\n",
              "      <td>0.012252</td>\n",
              "      <td>0.115202</td>\n",
              "      <td>JB3156</td>\n",
              "      <td>No</td>\n",
              "    </tr>\n",
              "    <tr>\n",
              "      <th>0</th>\n",
              "      <td>1.821660</td>\n",
              "      <td>2.576077</td>\n",
              "      <td>3.471074</td>\n",
              "      <td>7.421240</td>\n",
              "      <td>11.401192</td>\n",
              "      <td>30.671136</td>\n",
              "      <td>JB3156</td>\n",
              "      <td>No</td>\n",
              "    </tr>\n",
              "    <tr>\n",
              "      <th>0</th>\n",
              "      <td>1.821660</td>\n",
              "      <td>2.576077</td>\n",
              "      <td>3.471074</td>\n",
              "      <td>7.421240</td>\n",
              "      <td>11.401192</td>\n",
              "      <td>30.671136</td>\n",
              "      <td>JB3156</td>\n",
              "      <td>No</td>\n",
              "    </tr>\n",
              "  </tbody>\n",
              "</table>\n",
              "</div>"
            ],
            "text/plain": [
              "     mean_x    mean_y    mean_z  ...      var_z     pid  Over Legal Limit\n",
              "0  0.135799  0.072888  0.270933  ...   0.115202  JB3156                No\n",
              "0  0.135799  0.072888  0.270933  ...   0.115202  JB3156                No\n",
              "0  0.135799  0.072888  0.270933  ...   0.115202  JB3156                No\n",
              "0  1.821660  2.576077  3.471074  ...  30.671136  JB3156                No\n",
              "0  1.821660  2.576077  3.471074  ...  30.671136  JB3156                No\n",
              "\n",
              "[5 rows x 8 columns]"
            ]
          },
          "metadata": {
            "tags": []
          },
          "execution_count": 119
        }
      ]
    },
    {
      "cell_type": "code",
      "metadata": {
        "id": "-YnbIbyjtFw2",
        "colab_type": "code",
        "colab": {}
      },
      "source": [
        "from sklearn.model_selection import train_test_split\n",
        "\n",
        "X = labeled_df.drop('Over Legal Limit', axis = 1)\n",
        "y = labeled_df['Over Legal Limit']\n",
        "X_train, X_test, y_train, y_test = train_test_split(X, y, test_size=0.20, random_state=42)\n"
      ],
      "execution_count": 120,
      "outputs": []
    },
    {
      "cell_type": "code",
      "metadata": {
        "id": "oD7uspWgk1Up",
        "colab_type": "code",
        "colab": {
          "base_uri": "https://localhost:8080/",
          "height": 252
        },
        "outputId": "00af9903-9162-4e2f-fe87-db8d7f63772b"
      },
      "source": [
        "from sklearn.preprocessing import OneHotEncoder\n",
        "from sklearn.preprocessing import StandardScaler\n",
        "encoder = OneHotEncoder()\n",
        "scaler = StandardScaler()\n",
        "\n",
        "print(X_train)\n",
        "\n",
        "numerical_cols = X.select_dtypes(include=['int64', 'float64']).columns\n",
        "categorical_cols = X.select_dtypes(include=['object', 'bool']).columns\n",
        "\n",
        "# Scale and encode columns\n",
        "scaled_columns  = scaler.fit_transform(X_train[numerical_cols]) \n",
        "encoded_columns =  encoder.fit_transform(X_train[categorical_cols]).toarray()\n",
        "\n",
        "X_train = np.concatenate([scaled_columns, encoded_columns], axis=1)\n",
        "\n",
        "test_scaled_columns  = scaler.transform(X_test[numerical_cols]) \n",
        "test_encoded_columns =  encoder.transform(X_test[categorical_cols]).toarray()\n",
        "\n",
        "X_test = np.concatenate([test_scaled_columns, test_encoded_columns], axis=1)"
      ],
      "execution_count": 121,
      "outputs": [
        {
          "output_type": "stream",
          "text": [
            "      mean_x    mean_y    mean_z     var_x     var_y     var_z     pid\n",
            "0   0.022133  0.027176  0.541473  0.001584  0.001626  0.002404  CC6740\n",
            "0   0.011726  0.009491  0.014299  0.001868  0.001510  0.001895  HV0618\n",
            "0   0.061601  0.072111  0.079842  0.011634  0.014471  0.021774  SF3079\n",
            "0   0.685926  0.613132  0.614922  1.839422  2.065564  2.058569  CC6740\n",
            "0   0.001353  0.001230  0.005034  0.000003  0.000002  0.000002  SA0297\n",
            "..       ...       ...       ...       ...       ...       ...     ...\n",
            "0   0.003017  0.003998  0.003822  0.000273  0.000322  0.000189  HV0618\n",
            "0   0.074137  0.098974  0.062531  0.019385  0.064538  0.012093  SF3079\n",
            "0   0.077419  0.056885  0.063880  0.028141  0.014598  0.019471  SF3079\n",
            "0   0.112039  0.105730  0.094413  0.050931  0.033597  0.025817  MJ8002\n",
            "0   0.077419  0.056885  0.063880  0.028141  0.014598  0.019471  SF3079\n",
            "\n",
            "[1021 rows x 7 columns]\n"
          ],
          "name": "stdout"
        }
      ]
    },
    {
      "cell_type": "code",
      "metadata": {
        "id": "GXKkbXmbtFlG",
        "colab_type": "code",
        "colab": {
          "base_uri": "https://localhost:8080/",
          "height": 34
        },
        "outputId": "a5b298db-7661-43cb-af79-8cef613f56c5"
      },
      "source": [
        "from sklearn.linear_model import LogisticRegression\n",
        "\n",
        "lr_model = LogisticRegression(random_state=42).fit(X_train, y_train)\n",
        "lr_score = lr_model.score(X_test, y_test)\n",
        "\n",
        "print(lr_score)\n"
      ],
      "execution_count": 122,
      "outputs": [
        {
          "output_type": "stream",
          "text": [
            "0.83984375\n"
          ],
          "name": "stdout"
        }
      ]
    },
    {
      "cell_type": "code",
      "metadata": {
        "id": "1bH5ltdx8ZJJ",
        "colab_type": "code",
        "colab": {
          "base_uri": "https://localhost:8080/",
          "height": 218
        },
        "outputId": "984fe157-da6c-4b5e-ebf4-d99badd11fff"
      },
      "source": [
        "from sklearn.metrics import confusion_matrix\n",
        "from sklearn.metrics import classification_report\n",
        "\n",
        "lr_y_pred = lr_model.predict(X_test)\n",
        "\n",
        "print(\"Confusion Matrix:\")\n",
        "print(confusion_matrix(y_test, lr_y_pred))\n",
        "\n",
        "print(classification_report(y_test, lr_y_pred))"
      ],
      "execution_count": 126,
      "outputs": [
        {
          "output_type": "stream",
          "text": [
            "Confusion Matrix:\n",
            "[[164  21]\n",
            " [ 20  51]]\n",
            "              precision    recall  f1-score   support\n",
            "\n",
            "          No       0.89      0.89      0.89       185\n",
            "         Yes       0.71      0.72      0.71        71\n",
            "\n",
            "    accuracy                           0.84       256\n",
            "   macro avg       0.80      0.80      0.80       256\n",
            "weighted avg       0.84      0.84      0.84       256\n",
            "\n"
          ],
          "name": "stdout"
        }
      ]
    },
    {
      "cell_type": "code",
      "metadata": {
        "id": "poGKrIAmkXk7",
        "colab_type": "code",
        "colab": {
          "base_uri": "https://localhost:8080/",
          "height": 34
        },
        "outputId": "a783768b-178f-4d48-e6d2-9d4f50fc428f"
      },
      "source": [
        "from sklearn.ensemble import RandomForestClassifier\n",
        "\n",
        "rf_model = RandomForestClassifier(n_estimators=500, max_depth=2, random_state=42).fit(X_train, y_train)\n",
        "rf_score = rf_model.score(X_test, y_test)\n",
        "\n",
        "print(rf_score)"
      ],
      "execution_count": 123,
      "outputs": [
        {
          "output_type": "stream",
          "text": [
            "0.796875\n"
          ],
          "name": "stdout"
        }
      ]
    },
    {
      "cell_type": "code",
      "metadata": {
        "id": "rySKHd7Q8x8N",
        "colab_type": "code",
        "colab": {
          "base_uri": "https://localhost:8080/",
          "height": 218
        },
        "outputId": "9862c0cd-3077-4ab8-d0c7-b1cfca07946b"
      },
      "source": [
        "rf_y_pred = rf_model.predict(X_test)\n",
        "\n",
        "print(\"Confusion Matrix:\")\n",
        "print(confusion_matrix(y_test, rf_y_pred))\n",
        "\n",
        "print(classification_report(y_test, rf_y_pred))"
      ],
      "execution_count": 127,
      "outputs": [
        {
          "output_type": "stream",
          "text": [
            "Confusion Matrix:\n",
            "[[185   0]\n",
            " [ 52  19]]\n",
            "              precision    recall  f1-score   support\n",
            "\n",
            "          No       0.78      1.00      0.88       185\n",
            "         Yes       1.00      0.27      0.42        71\n",
            "\n",
            "    accuracy                           0.80       256\n",
            "   macro avg       0.89      0.63      0.65       256\n",
            "weighted avg       0.84      0.80      0.75       256\n",
            "\n"
          ],
          "name": "stdout"
        }
      ]
    },
    {
      "cell_type": "code",
      "metadata": {
        "id": "CTDoc3-ykXeE",
        "colab_type": "code",
        "colab": {}
      },
      "source": [
        "from tensorflow.keras import Sequential\n",
        "from tensorflow.keras.layers import Dense\n",
        "\n",
        "tf_model = Sequential()\n",
        "tf_model.add(Dense(len(X.columns), activation='relu'))\n",
        "tf_model.add(Dense(1))\n",
        "\n",
        "tf_model.compile(optimizer='adam',\n",
        "              loss='binary_crossentropy',\n",
        "              metrics=['accuracy'])\n"
      ],
      "execution_count": 130,
      "outputs": []
    },
    {
      "cell_type": "code",
      "metadata": {
        "id": "zlYGuYsO7T4b",
        "colab_type": "code",
        "colab": {}
      },
      "source": [
        "tf_y_train = np.where(y_train == 'Yes', 1, 0)\n",
        "tf_y_test = np.where(y_train == 'Yes', 1, 0)\n"
      ],
      "execution_count": 133,
      "outputs": []
    },
    {
      "cell_type": "code",
      "metadata": {
        "id": "zbHBNeatkXV3",
        "colab_type": "code",
        "colab": {
          "base_uri": "https://localhost:8080/",
          "height": 1000
        },
        "outputId": "c2f3fef1-6cff-4c0f-93c5-def8d36dff56"
      },
      "source": [
        "tf_model.fit(X_train, tf_y_train, batch_size=32, epochs=50)"
      ],
      "execution_count": 134,
      "outputs": [
        {
          "output_type": "stream",
          "text": [
            "Epoch 1/50\n",
            "32/32 [==============================] - 0s 1ms/step - loss: 2.0846 - accuracy: 0.6885\n",
            "Epoch 2/50\n",
            "32/32 [==============================] - 0s 1ms/step - loss: 1.8669 - accuracy: 0.6934\n",
            "Epoch 3/50\n",
            "32/32 [==============================] - 0s 1ms/step - loss: 1.8194 - accuracy: 0.7042\n",
            "Epoch 4/50\n",
            "32/32 [==============================] - 0s 2ms/step - loss: 1.7940 - accuracy: 0.7189\n",
            "Epoch 5/50\n",
            "32/32 [==============================] - 0s 2ms/step - loss: 1.7763 - accuracy: 0.7150\n",
            "Epoch 6/50\n",
            "32/32 [==============================] - 0s 1ms/step - loss: 1.7612 - accuracy: 0.7189\n",
            "Epoch 7/50\n",
            "32/32 [==============================] - 0s 2ms/step - loss: 1.7483 - accuracy: 0.7218\n",
            "Epoch 8/50\n",
            "32/32 [==============================] - 0s 1ms/step - loss: 1.7366 - accuracy: 0.7238\n",
            "Epoch 9/50\n",
            "32/32 [==============================] - 0s 1ms/step - loss: 1.7255 - accuracy: 0.7238\n",
            "Epoch 10/50\n",
            "32/32 [==============================] - 0s 1ms/step - loss: 1.7150 - accuracy: 0.7473\n",
            "Epoch 11/50\n",
            "32/32 [==============================] - 0s 1ms/step - loss: 1.7048 - accuracy: 0.7571\n",
            "Epoch 12/50\n",
            "32/32 [==============================] - 0s 1ms/step - loss: 1.6950 - accuracy: 0.8090\n",
            "Epoch 13/50\n",
            "32/32 [==============================] - 0s 1ms/step - loss: 1.6858 - accuracy: 0.8090\n",
            "Epoch 14/50\n",
            "32/32 [==============================] - 0s 2ms/step - loss: 1.6764 - accuracy: 0.8090\n",
            "Epoch 15/50\n",
            "32/32 [==============================] - 0s 1ms/step - loss: 1.6687 - accuracy: 0.8090\n",
            "Epoch 16/50\n",
            "32/32 [==============================] - 0s 1ms/step - loss: 1.6617 - accuracy: 0.8090\n",
            "Epoch 17/50\n",
            "32/32 [==============================] - 0s 2ms/step - loss: 1.6553 - accuracy: 0.8129\n",
            "Epoch 18/50\n",
            "32/32 [==============================] - 0s 2ms/step - loss: 1.6491 - accuracy: 0.8129\n",
            "Epoch 19/50\n",
            "32/32 [==============================] - 0s 1ms/step - loss: 1.6536 - accuracy: 0.8129\n",
            "Epoch 20/50\n",
            "32/32 [==============================] - 0s 1ms/step - loss: 1.6474 - accuracy: 0.8129\n",
            "Epoch 21/50\n",
            "32/32 [==============================] - 0s 1ms/step - loss: 1.6420 - accuracy: 0.8129\n",
            "Epoch 22/50\n",
            "32/32 [==============================] - 0s 1ms/step - loss: 1.6373 - accuracy: 0.8129\n",
            "Epoch 23/50\n",
            "32/32 [==============================] - 0s 1ms/step - loss: 1.6325 - accuracy: 0.8129\n",
            "Epoch 24/50\n",
            "32/32 [==============================] - 0s 1ms/step - loss: 1.6283 - accuracy: 0.8129\n",
            "Epoch 25/50\n",
            "32/32 [==============================] - 0s 1ms/step - loss: 1.6250 - accuracy: 0.8129\n",
            "Epoch 26/50\n",
            "32/32 [==============================] - 0s 2ms/step - loss: 1.6213 - accuracy: 0.8129\n",
            "Epoch 27/50\n",
            "32/32 [==============================] - 0s 1ms/step - loss: 1.6192 - accuracy: 0.8129\n",
            "Epoch 28/50\n",
            "32/32 [==============================] - 0s 1ms/step - loss: 1.6168 - accuracy: 0.8139\n",
            "Epoch 29/50\n",
            "32/32 [==============================] - 0s 1ms/step - loss: 1.6150 - accuracy: 0.8139\n",
            "Epoch 30/50\n",
            "32/32 [==============================] - 0s 1ms/step - loss: 1.6143 - accuracy: 0.8139\n",
            "Epoch 31/50\n",
            "32/32 [==============================] - 0s 1ms/step - loss: 1.6131 - accuracy: 0.8139\n",
            "Epoch 32/50\n",
            "32/32 [==============================] - 0s 2ms/step - loss: 1.6131 - accuracy: 0.8139\n",
            "Epoch 33/50\n",
            "32/32 [==============================] - 0s 1ms/step - loss: 1.6129 - accuracy: 0.8139\n",
            "Epoch 34/50\n",
            "32/32 [==============================] - 0s 1ms/step - loss: 1.6128 - accuracy: 0.8119\n",
            "Epoch 35/50\n",
            "32/32 [==============================] - 0s 1ms/step - loss: 1.6108 - accuracy: 0.8139\n",
            "Epoch 36/50\n",
            "32/32 [==============================] - 0s 1ms/step - loss: 1.6105 - accuracy: 0.8149\n",
            "Epoch 37/50\n",
            "32/32 [==============================] - 0s 2ms/step - loss: 1.6100 - accuracy: 0.8149\n",
            "Epoch 38/50\n",
            "32/32 [==============================] - 0s 1ms/step - loss: 1.6095 - accuracy: 0.8159\n",
            "Epoch 39/50\n",
            "32/32 [==============================] - 0s 1ms/step - loss: 1.6095 - accuracy: 0.8159\n",
            "Epoch 40/50\n",
            "32/32 [==============================] - 0s 1ms/step - loss: 1.6094 - accuracy: 0.8159\n",
            "Epoch 41/50\n",
            "32/32 [==============================] - 0s 1ms/step - loss: 1.6086 - accuracy: 0.8139\n",
            "Epoch 42/50\n",
            "32/32 [==============================] - 0s 2ms/step - loss: 0.8085 - accuracy: 0.8149\n",
            "Epoch 43/50\n",
            "32/32 [==============================] - 0s 1ms/step - loss: 0.5758 - accuracy: 0.8149\n",
            "Epoch 44/50\n",
            "32/32 [==============================] - 0s 1ms/step - loss: 0.5645 - accuracy: 0.8159\n",
            "Epoch 45/50\n",
            "32/32 [==============================] - 0s 2ms/step - loss: 0.5570 - accuracy: 0.8159\n",
            "Epoch 46/50\n",
            "32/32 [==============================] - 0s 1ms/step - loss: 0.5521 - accuracy: 0.8149\n",
            "Epoch 47/50\n",
            "32/32 [==============================] - 0s 1ms/step - loss: 0.5477 - accuracy: 0.8168\n",
            "Epoch 48/50\n",
            "32/32 [==============================] - 0s 1ms/step - loss: 0.5438 - accuracy: 0.8139\n",
            "Epoch 49/50\n",
            "32/32 [==============================] - 0s 1ms/step - loss: 0.5410 - accuracy: 0.8149\n",
            "Epoch 50/50\n",
            "32/32 [==============================] - 0s 2ms/step - loss: 0.5379 - accuracy: 0.8149\n"
          ],
          "name": "stdout"
        },
        {
          "output_type": "execute_result",
          "data": {
            "text/plain": [
              "<tensorflow.python.keras.callbacks.History at 0x7fadbab6aac8>"
            ]
          },
          "metadata": {
            "tags": []
          },
          "execution_count": 134
        }
      ]
    },
    {
      "cell_type": "code",
      "metadata": {
        "id": "mlnlnfpT6q57",
        "colab_type": "code",
        "colab": {
          "base_uri": "https://localhost:8080/",
          "height": 34
        },
        "outputId": "4d767479-7ab4-4f69-b909-bf917975bbc6"
      },
      "source": [
        "test_loss, test_acc = tf_model.evaluate(X_train,  tf_y_test, verbose=2)"
      ],
      "execution_count": 136,
      "outputs": [
        {
          "output_type": "stream",
          "text": [
            "32/32 - 0s - loss: 0.5358 - accuracy: 0.8168\n"
          ],
          "name": "stdout"
        }
      ]
    },
    {
      "cell_type": "code",
      "metadata": {
        "id": "uJ0HJkFV9xQU",
        "colab_type": "code",
        "colab": {}
      },
      "source": [
        ""
      ],
      "execution_count": null,
      "outputs": []
    }
  ]
}